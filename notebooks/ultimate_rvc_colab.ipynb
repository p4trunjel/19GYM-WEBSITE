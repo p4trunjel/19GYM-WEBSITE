{
  "cells": [
    {
      "cell_type": "markdown",
      "metadata": {
        "id": "kmyCzJVyCymN"
      },
      "source": [
        "Colab for [Ultimate RVC](https://github.com/JackismyShephard/ultimate-rvc)\n",
        "\n",
        "This Colab notebook will **help** you if you don’t have a GPU or if your PC isn’t very powerful.\n",
        "\n",
        "Simply click `Runtime` in the top navigation bar and `Run all`. Wait for the output of the final cell to show the public gradio url and click on it.\n"
      ]
    },
    {
      "cell_type": "code",
      "execution_count": 2,
      "metadata": {
        "id": "YUI3CA5X_dBg",
        "outputId": "36f23ec0-c276-452e-b10c-cb8860061966",
        "colab": {
          "base_uri": "https://localhost:8080/"
        }
      },
      "outputs": [
        {
          "output_type": "stream",
          "name": "stdout",
          "text": [
            "time: 1.9 ms (started: 2025-03-20 19:18:38 +00:00)\n"
          ]
        }
      ],
      "source": [
        "# @title 0: Initialize notebook\n",
        "%pip install ipython-autotime\n",
        "%load_ext autotime\n",
        "\n",
        "import codecs\n",
        "import os\n",
        "\n",
        "from IPython.display import clear_output\n",
        "\n",
        "clear_output()"
      ]
    },
    {
      "cell_type": "code",
      "execution_count": 3,
      "metadata": {
        "cellView": "form",
        "id": "aaokDv1VzpAX",
        "outputId": "0daf274f-4f2b-4a70-d262-3fddd3f71f42",
        "colab": {
          "base_uri": "https://localhost:8080/"
        }
      },
      "outputs": [
        {
          "output_type": "stream",
          "name": "stdout",
          "text": [
            "time: 2.02 s (started: 2025-03-20 19:18:45 +00:00)\n"
          ]
        }
      ],
      "source": [
        "# @title 1: Clone repository\n",
        "cloneing = codecs.decode(\n",
        "    \"uggcf://tvguho.pbz/WnpxvfzlFurcuneq/hygvzngr-eip.tvg\",\n",
        "    \"rot_13\",\n",
        ")\n",
        "\n",
        "!git clone $cloneing HRVC\n",
        "%cd /content/HRVC\n",
        "clear_output()"
      ]
    },
    {
      "cell_type": "code",
      "execution_count": 4,
      "metadata": {
        "cellView": "form",
        "id": "lVGNygIa0F_1",
        "outputId": "a093aea8-8d04-4ad0-e851-cad3bb7bf4ad",
        "colab": {
          "base_uri": "https://localhost:8080/"
        }
      },
      "outputs": [
        {
          "output_type": "stream",
          "name": "stdout",
          "text": [
            "time: 4min 21s (started: 2025-03-20 19:19:09 +00:00)\n"
          ]
        }
      ],
      "source": [
        "# @title 2: Install dependencies\n",
        "\n",
        "light = codecs.decode(\"uggcf://nfgeny.fu/hi/0.5.0/vafgnyy.fu\", \"rot_13\")\n",
        "inits = codecs.decode(\"./fep/hygvzngr_eip/pber/znva.cl\", \"rot_13\")\n",
        "\n",
        "!apt install -y python3-dev unzip\n",
        "!curl -LsSf $light | sh\n",
        "\n",
        "os.environ[\"URVC_CONSOLE_LOG_LEVEL\"] = \"WARNING\"\n",
        "!uv run -q $inits\n",
        "!uv add matplotlib-inline==0.1.7\n",
        "clear_output()"
      ]
    },
    {
      "cell_type": "code",
      "execution_count": null,
      "metadata": {
        "cellView": "form",
        "id": "lVGNygIa0F_2",
        "outputId": "e2f565d9-8e71-4272-97b4-898856189279",
        "colab": {
          "base_uri": "https://localhost:8080/"
        }
      },
      "outputs": [
        {
          "output_type": "stream",
          "name": "stdout",
          "text": [
            "* Running on local URL:  http://127.0.0.1:7860\n",
            "* Running on public URL: https://2219cdbef2fe270499.gradio.live\n",
            "\n",
            "This share link expires in 72 hours. For free permanent hosting and GPU upgrades, run `gradio deploy` from the terminal in the working directory to deploy to Hugging Face Spaces (https://huggingface.co/spaces)\n",
            "100% 1/1 [00:29<00:00, 29.64s/it]\n",
            "\u001b[1m[\u001b[0m~\u001b[1m]\u001b[0m Extracting pitch features\u001b[33m...\u001b[0m\n",
            "100% 61/61 [00:04<00:00, 14.69it/s]\n",
            "\u001b[1m[\u001b[0m~\u001b[1m]\u001b[0m Extracting audio embeddings\u001b[33m...\u001b[0m\n",
            "100% 61/61 [00:01<00:00, 36.21it/s]\n",
            "/content/HRVC/.venv/lib/python3.12/site-packages/torch/utils/data/dataloader.py:624: UserWarning: This DataLoader will create 4 worker processes in total. Our suggested max number of worker in current system is 2, which is smaller than what this DataLoader is going to create. Please be aware that excessive worker creation might get DataLoader running slow or even freeze, lower the worker number to avoid potential slowness/freeze if necessary.\n",
            "  warnings.warn(\n",
            "/content/HRVC/.venv/lib/python3.12/site-packages/torch/utils/data/dataloader.py:624: UserWarning: This DataLoader will create 4 worker processes in total. Our suggested max number of worker in current system is 2, which is smaller than what this DataLoader is going to create. Please be aware that excessive worker creation might get DataLoader running slow or even freeze, lower the worker number to avoid potential slowness/freeze if necessary.\n",
            "  warnings.warn(\n",
            "DaniMocanu | epoch=1 | time=19:56:00 | speed=0:01:23 | best avg-gen-loss=3.724 (epoch 1) | overtrain countdown: g=50,d=100 | avg-gen-loss=3.724 | avg-disc-loss=0.259\n",
            "DaniMocanu | epoch=2 | time=19:56:17 | speed=0:00:16 | best avg-gen-loss=3.578 (epoch 2) | overtrain countdown: g=50,d=99 | avg-gen-loss=3.578 | avg-disc-loss=0.259\n",
            "DaniMocanu | epoch=3 | time=19:56:34 | speed=0:00:16 | best avg-gen-loss=3.567 (epoch 3) | overtrain countdown: g=50,d=100 | avg-gen-loss=3.567 | avg-disc-loss=0.231\n",
            "DaniMocanu | epoch=4 | time=19:56:51 | speed=0:00:16 | best avg-gen-loss=3.507 (epoch 4) | overtrain countdown: g=50,d=100 | avg-gen-loss=3.507 | avg-disc-loss=0.189\n",
            "DaniMocanu | epoch=5 | time=19:57:07 | speed=0:00:16 | best avg-gen-loss=3.507 (epoch 4) | overtrain countdown: g=49,d=100 | avg-gen-loss=3.528 | avg-disc-loss=0.156\n",
            "DaniMocanu | epoch=6 | time=19:57:24 | speed=0:00:16 | best avg-gen-loss=3.507 (epoch 4) | overtrain countdown: g=48,d=100 | avg-gen-loss=3.561 | avg-disc-loss=0.134\n",
            "DaniMocanu | epoch=7 | time=19:57:41 | speed=0:00:16 | best avg-gen-loss=3.507 (epoch 4) | overtrain countdown: g=47,d=100 | avg-gen-loss=3.611 | avg-disc-loss=0.117\n",
            "DaniMocanu | epoch=8 | time=19:57:58 | speed=0:00:16 | best avg-gen-loss=3.507 (epoch 4) | overtrain countdown: g=46,d=100 | avg-gen-loss=3.613 | avg-disc-loss=0.110\n",
            "DaniMocanu | epoch=9 | time=19:58:14 | speed=0:00:16 | best avg-gen-loss=3.507 (epoch 4) | overtrain countdown: g=45,d=100 | avg-gen-loss=3.621 | avg-disc-loss=0.104\n",
            "DaniMocanu | epoch=10 | time=19:58:31 | speed=0:00:16 | best avg-gen-loss=3.507 (epoch 4) | overtrain countdown: g=44,d=99 | avg-gen-loss=3.563 | avg-disc-loss=0.114\n",
            "DaniMocanu | epoch=11 | time=20:00:21 | speed=0:00:16 | best avg-gen-loss=3.418 (epoch 11) | overtrain countdown: g=50,d=98 | avg-gen-loss=3.418 | avg-disc-loss=0.161\n",
            "DaniMocanu | epoch=12 | time=20:00:39 | speed=0:00:16 | best avg-gen-loss=3.341 (epoch 12) | overtrain countdown: g=50,d=97 | avg-gen-loss=3.341 | avg-disc-loss=0.206\n",
            "DaniMocanu | epoch=13 | time=20:00:56 | speed=0:00:16 | best avg-gen-loss=3.328 (epoch 13) | overtrain countdown: g=50,d=96 | avg-gen-loss=3.328 | avg-disc-loss=0.187\n",
            "DaniMocanu | epoch=14 | time=20:01:13 | speed=0:00:16 | best avg-gen-loss=3.189 (epoch 14) | overtrain countdown: g=50,d=95 | avg-gen-loss=3.189 | avg-disc-loss=0.162\n",
            "DaniMocanu | epoch=15 | time=20:01:30 | speed=0:00:16 | best avg-gen-loss=3.144 (epoch 15) | overtrain countdown: g=50,d=94 | avg-gen-loss=3.144 | avg-disc-loss=0.178\n",
            "DaniMocanu | epoch=16 | time=20:01:48 | speed=0:00:16 | best avg-gen-loss=3.144 (epoch 15) | overtrain countdown: g=49,d=93 | avg-gen-loss=3.169 | avg-disc-loss=0.173\n",
            "DaniMocanu | epoch=17 | time=20:02:04 | speed=0:00:16 | best avg-gen-loss=3.100 (epoch 17) | overtrain countdown: g=50,d=92 | avg-gen-loss=3.100 | avg-disc-loss=0.183\n",
            "DaniMocanu | epoch=18 | time=20:02:21 | speed=0:00:16 | best avg-gen-loss=3.054 (epoch 18) | overtrain countdown: g=50,d=91 | avg-gen-loss=3.054 | avg-disc-loss=0.184\n",
            "DaniMocanu | epoch=19 | time=20:02:39 | speed=0:00:17 | best avg-gen-loss=3.054 (epoch 18) | overtrain countdown: g=49,d=90 | avg-gen-loss=3.151 | avg-disc-loss=0.171\n",
            "DaniMocanu | epoch=20 | time=20:02:56 | speed=0:00:16 | best avg-gen-loss=3.054 (epoch 18) | overtrain countdown: g=48,d=89 | avg-gen-loss=3.102 | avg-disc-loss=0.170\n",
            "DaniMocanu | epoch=21 | time=20:03:26 | speed=0:00:16 | best avg-gen-loss=2.984 (epoch 21) | overtrain countdown: g=50,d=88 | avg-gen-loss=2.984 | avg-disc-loss=0.189\n",
            "DaniMocanu | epoch=22 | time=20:03:43 | speed=0:00:17 | best avg-gen-loss=2.984 (epoch 21) | overtrain countdown: g=49,d=87 | avg-gen-loss=3.012 | avg-disc-loss=0.194\n",
            "DaniMocanu | epoch=23 | time=20:04:00 | speed=0:00:16 | best avg-gen-loss=2.984 (epoch 21) | overtrain countdown: g=48,d=86 | avg-gen-loss=2.997 | avg-disc-loss=0.195\n",
            "DaniMocanu | epoch=24 | time=20:04:17 | speed=0:00:16 | best avg-gen-loss=2.922 (epoch 24) | overtrain countdown: g=50,d=85 | avg-gen-loss=2.922 | avg-disc-loss=0.194\n",
            "DaniMocanu | epoch=25 | time=20:04:34 | speed=0:00:17 | best avg-gen-loss=2.915 (epoch 25) | overtrain countdown: g=50,d=84 | avg-gen-loss=2.915 | avg-disc-loss=0.190\n",
            "DaniMocanu | epoch=26 | time=20:04:52 | speed=0:00:17 | best avg-gen-loss=2.915 (epoch 25) | overtrain countdown: g=49,d=83 | avg-gen-loss=2.921 | avg-disc-loss=0.184\n",
            "DaniMocanu | epoch=27 | time=20:05:09 | speed=0:00:16 | best avg-gen-loss=2.874 (epoch 27) | overtrain countdown: g=50,d=82 | avg-gen-loss=2.874 | avg-disc-loss=0.194\n",
            "DaniMocanu | epoch=28 | time=20:05:26 | speed=0:00:16 | best avg-gen-loss=2.851 (epoch 28) | overtrain countdown: g=50,d=81 | avg-gen-loss=2.851 | avg-disc-loss=0.200\n",
            "DaniMocanu | epoch=29 | time=20:05:43 | speed=0:00:17 | best avg-gen-loss=2.816 (epoch 29) | overtrain countdown: g=50,d=80 | avg-gen-loss=2.816 | avg-disc-loss=0.209\n",
            "DaniMocanu | epoch=30 | time=20:06:01 | speed=0:00:16 | best avg-gen-loss=2.808 (epoch 30) | overtrain countdown: g=50,d=79 | avg-gen-loss=2.808 | avg-disc-loss=0.219\n",
            "DaniMocanu | epoch=31 | time=20:06:36 | speed=0:00:16 | best avg-gen-loss=2.633 (epoch 31) | overtrain countdown: g=50,d=78 | avg-gen-loss=2.633 | avg-disc-loss=0.245\n",
            "DaniMocanu | epoch=32 | time=20:06:54 | speed=0:00:17 | best avg-gen-loss=2.610 (epoch 32) | overtrain countdown: g=50,d=77 | avg-gen-loss=2.610 | avg-disc-loss=0.255\n",
            "DaniMocanu | epoch=33 | time=20:07:11 | speed=0:00:16 | best avg-gen-loss=2.581 (epoch 33) | overtrain countdown: g=50,d=76 | avg-gen-loss=2.581 | avg-disc-loss=0.238\n",
            "DaniMocanu | epoch=34 | time=20:07:28 | speed=0:00:17 | best avg-gen-loss=2.581 (epoch 33) | overtrain countdown: g=49,d=75 | avg-gen-loss=2.627 | avg-disc-loss=0.236\n",
            "DaniMocanu | epoch=35 | time=20:07:45 | speed=0:00:16 | best avg-gen-loss=2.581 (epoch 33) | overtrain countdown: g=48,d=74 | avg-gen-loss=2.579 | avg-disc-loss=0.225\n",
            "DaniMocanu | epoch=36 | time=20:08:02 | speed=0:00:16 | best avg-gen-loss=2.581 (epoch 33) | overtrain countdown: g=47,d=73 | avg-gen-loss=2.592 | avg-disc-loss=0.227\n",
            "DaniMocanu | epoch=37 | time=20:08:19 | speed=0:00:17 | best avg-gen-loss=2.581 (epoch 33) | overtrain countdown: g=46,d=72 | avg-gen-loss=2.620 | avg-disc-loss=0.218\n",
            "DaniMocanu | epoch=38 | time=20:08:37 | speed=0:00:17 | best avg-gen-loss=2.581 (epoch 33) | overtrain countdown: g=45,d=71 | avg-gen-loss=2.643 | avg-disc-loss=0.218\n",
            "DaniMocanu | epoch=39 | time=20:08:54 | speed=0:00:16 | best avg-gen-loss=2.581 (epoch 33) | overtrain countdown: g=44,d=70 | avg-gen-loss=2.639 | avg-disc-loss=0.224\n",
            "DaniMocanu | epoch=40 | time=20:09:11 | speed=0:00:17 | best avg-gen-loss=2.581 (epoch 33) | overtrain countdown: g=43,d=69 | avg-gen-loss=2.606 | avg-disc-loss=0.237\n",
            "DaniMocanu | epoch=41 | time=20:09:38 | speed=0:00:17 | best avg-gen-loss=2.570 (epoch 41) | overtrain countdown: g=50,d=68 | avg-gen-loss=2.570 | avg-disc-loss=0.230\n",
            "DaniMocanu | epoch=42 | time=20:09:56 | speed=0:00:17 | best avg-gen-loss=2.570 (epoch 41) | overtrain countdown: g=49,d=67 | avg-gen-loss=2.579 | avg-disc-loss=0.232\n",
            "DaniMocanu | epoch=43 | time=20:10:13 | speed=0:00:16 | best avg-gen-loss=2.570 (epoch 41) | overtrain countdown: g=48,d=66 | avg-gen-loss=2.574 | avg-disc-loss=0.229\n",
            "DaniMocanu | epoch=44 | time=20:10:30 | speed=0:00:17 | best avg-gen-loss=2.570 (epoch 41) | overtrain countdown: g=47,d=65 | avg-gen-loss=2.622 | avg-disc-loss=0.236\n",
            "DaniMocanu | epoch=45 | time=20:10:47 | speed=0:00:17 | best avg-gen-loss=2.570 (epoch 41) | overtrain countdown: g=46,d=64 | avg-gen-loss=2.577 | avg-disc-loss=0.228\n",
            "DaniMocanu | epoch=46 | time=20:11:04 | speed=0:00:16 | best avg-gen-loss=2.570 (epoch 41) | overtrain countdown: g=45,d=63 | avg-gen-loss=2.607 | avg-disc-loss=0.242\n",
            "DaniMocanu | epoch=47 | time=20:11:21 | speed=0:00:16 | best avg-gen-loss=2.570 (epoch 41) | overtrain countdown: g=44,d=62 | avg-gen-loss=2.652 | avg-disc-loss=0.238\n",
            "DaniMocanu | epoch=48 | time=20:11:38 | speed=0:00:17 | best avg-gen-loss=2.570 (epoch 41) | overtrain countdown: g=43,d=61 | avg-gen-loss=2.655 | avg-disc-loss=0.232\n",
            "DaniMocanu | epoch=49 | time=20:11:55 | speed=0:00:16 | best avg-gen-loss=2.570 (epoch 41) | overtrain countdown: g=42,d=60 | avg-gen-loss=2.604 | avg-disc-loss=0.228\n",
            "DaniMocanu | epoch=50 | time=20:12:12 | speed=0:00:16 | best avg-gen-loss=2.570 (epoch 41) | overtrain countdown: g=41,d=59 | avg-gen-loss=2.634 | avg-disc-loss=0.216\n",
            "DaniMocanu | epoch=51 | time=20:12:46 | speed=0:00:16 | best avg-gen-loss=2.570 (epoch 41) | overtrain countdown: g=40,d=58 | avg-gen-loss=2.584 | avg-disc-loss=0.226\n",
            "DaniMocanu | epoch=52 | time=20:13:03 | speed=0:00:16 | best avg-gen-loss=2.570 (epoch 41) | overtrain countdown: g=39,d=57 | avg-gen-loss=2.627 | avg-disc-loss=0.238\n",
            "DaniMocanu | epoch=53 | time=20:13:19 | speed=0:00:16 | best avg-gen-loss=2.546 (epoch 53) | overtrain countdown: g=50,d=56 | avg-gen-loss=2.546 | avg-disc-loss=0.236\n",
            "DaniMocanu | epoch=54 | time=20:13:37 | speed=0:00:17 | best avg-gen-loss=2.538 (epoch 54) | overtrain countdown: g=50,d=55 | avg-gen-loss=2.538 | avg-disc-loss=0.237\n",
            "DaniMocanu | epoch=55 | time=20:13:54 | speed=0:00:16 | best avg-gen-loss=2.526 (epoch 55) | overtrain countdown: g=50,d=54 | avg-gen-loss=2.526 | avg-disc-loss=0.235\n",
            "DaniMocanu | epoch=56 | time=20:14:11 | speed=0:00:16 | best avg-gen-loss=2.503 (epoch 56) | overtrain countdown: g=50,d=53 | avg-gen-loss=2.503 | avg-disc-loss=0.227\n",
            "DaniMocanu | epoch=57 | time=20:14:29 | speed=0:00:17 | best avg-gen-loss=2.503 (epoch 56) | overtrain countdown: g=49,d=52 | avg-gen-loss=2.662 | avg-disc-loss=0.239\n",
            "DaniMocanu | epoch=58 | time=20:14:46 | speed=0:00:16 | best avg-gen-loss=2.503 (epoch 56) | overtrain countdown: g=48,d=51 | avg-gen-loss=2.511 | avg-disc-loss=0.229\n",
            "DaniMocanu | epoch=59 | time=20:15:03 | speed=0:00:16 | best avg-gen-loss=2.503 (epoch 56) | overtrain countdown: g=47,d=50 | avg-gen-loss=2.540 | avg-disc-loss=0.223\n",
            "DaniMocanu | epoch=60 | time=20:15:20 | speed=0:00:17 | best avg-gen-loss=2.503 (epoch 56) | overtrain countdown: g=46,d=49 | avg-gen-loss=2.504 | avg-disc-loss=0.232\n",
            "DaniMocanu | epoch=61 | time=20:16:01 | speed=0:00:16 | best avg-gen-loss=2.468 (epoch 61) | overtrain countdown: g=50,d=48 | avg-gen-loss=2.468 | avg-disc-loss=0.228\n",
            "DaniMocanu | epoch=62 | time=20:16:18 | speed=0:00:16 | best avg-gen-loss=2.454 (epoch 62) | overtrain countdown: g=50,d=47 | avg-gen-loss=2.454 | avg-disc-loss=0.232\n",
            "DaniMocanu | epoch=63 | time=20:16:35 | speed=0:00:16 | best avg-gen-loss=2.454 (epoch 62) | overtrain countdown: g=49,d=46 | avg-gen-loss=2.567 | avg-disc-loss=0.219\n",
            "DaniMocanu | epoch=64 | time=20:16:52 | speed=0:00:16 | best avg-gen-loss=2.454 (epoch 62) | overtrain countdown: g=48,d=45 | avg-gen-loss=2.500 | avg-disc-loss=0.228\n",
            "DaniMocanu | epoch=65 | time=20:17:09 | speed=0:00:17 | best avg-gen-loss=2.454 (epoch 62) | overtrain countdown: g=47,d=44 | avg-gen-loss=2.537 | avg-disc-loss=0.227\n",
            "DaniMocanu | epoch=66 | time=20:17:26 | speed=0:00:16 | best avg-gen-loss=2.454 (epoch 62) | overtrain countdown: g=46,d=43 | avg-gen-loss=2.524 | avg-disc-loss=0.221\n",
            "DaniMocanu | epoch=67 | time=20:17:43 | speed=0:00:16 | best avg-gen-loss=2.454 (epoch 62) | overtrain countdown: g=45,d=42 | avg-gen-loss=2.461 | avg-disc-loss=0.221\n",
            "DaniMocanu | epoch=68 | time=20:18:00 | speed=0:00:17 | best avg-gen-loss=2.454 (epoch 62) | overtrain countdown: g=44,d=41 | avg-gen-loss=2.556 | avg-disc-loss=0.230\n",
            "DaniMocanu | epoch=69 | time=20:18:17 | speed=0:00:17 | best avg-gen-loss=2.454 (epoch 62) | overtrain countdown: g=43,d=40 | avg-gen-loss=2.451 | avg-disc-loss=0.231\n",
            "DaniMocanu | epoch=70 | time=20:18:34 | speed=0:00:16 | best avg-gen-loss=2.454 (epoch 62) | overtrain countdown: g=42,d=39 | avg-gen-loss=2.505 | avg-disc-loss=0.221\n",
            "DaniMocanu | epoch=71 | time=20:19:25 | speed=0:00:16 | best avg-gen-loss=2.454 (epoch 62) | overtrain countdown: g=41,d=38 | avg-gen-loss=2.557 | avg-disc-loss=0.222\n",
            "DaniMocanu | epoch=72 | time=20:19:42 | speed=0:00:16 | best avg-gen-loss=2.454 (epoch 62) | overtrain countdown: g=40,d=37 | avg-gen-loss=2.523 | avg-disc-loss=0.226\n",
            "DaniMocanu | epoch=73 | time=20:19:59 | speed=0:00:16 | best avg-gen-loss=2.422 (epoch 73) | overtrain countdown: g=50,d=36 | avg-gen-loss=2.422 | avg-disc-loss=0.232\n",
            "DaniMocanu | epoch=74 | time=20:20:16 | speed=0:00:16 | best avg-gen-loss=2.422 (epoch 73) | overtrain countdown: g=49,d=35 | avg-gen-loss=2.449 | avg-disc-loss=0.236\n",
            "DaniMocanu | epoch=75 | time=20:20:33 | speed=0:00:16 | best avg-gen-loss=2.422 (epoch 73) | overtrain countdown: g=48,d=34 | avg-gen-loss=2.472 | avg-disc-loss=0.229\n",
            "DaniMocanu | epoch=76 | time=20:20:50 | speed=0:00:17 | best avg-gen-loss=2.422 (epoch 73) | overtrain countdown: g=47,d=33 | avg-gen-loss=2.468 | avg-disc-loss=0.233\n",
            "DaniMocanu | epoch=77 | time=20:21:07 | speed=0:00:16 | best avg-gen-loss=2.422 (epoch 73) | overtrain countdown: g=46,d=32 | avg-gen-loss=2.490 | avg-disc-loss=0.235\n",
            "  0% 0/4 [00:00<?, ?it/s]"
          ]
        }
      ],
      "source": [
        "# @title 3: Run Ultimate RVC\n",
        "\n",
        "runpice = codecs.decode(\"./fep/hygvzngr_eip/jro/znva.cl\", \"rot_13\")\n",
        "\n",
        "!uv run $runpice --share"
      ]
    }
  ],
  "metadata": {
    "accelerator": "GPU",
    "colab": {
      "gpuType": "T4",
      "provenance": []
    },
    "kernelspec": {
      "display_name": "Python 3",
      "name": "python3"
    },
    "language_info": {
      "name": "python"
    }
  },
  "nbformat": 4,
  "nbformat_minor": 0
}